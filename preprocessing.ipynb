{
 "cells": [
  {
   "cell_type": "code",
   "execution_count": 1,
   "id": "df41290a",
   "metadata": {},
   "outputs": [
    {
     "name": "stdout",
     "output_type": "stream",
     "text": [
      "✅ Coluna 'RMDM_Norm' adicionada com sucesso.\n",
      "📁 Arquivo salvo como 'RMDM_litoral_norte_com_normalizado.csv'.\n"
     ]
    }
   ],
   "source": [
    "import pandas as pd\n",
    "from sklearn.preprocessing import MinMaxScaler\n",
    "\n",
    "# === 1. CARREGAR O ARQUIVO ORIGINAL ===\n",
    "df = pd.read_csv(\"RMDM_litoral_norte.csv\")\n",
    "df[\"Data\"] = pd.to_datetime(df[\"Data\"], errors=\"coerce\")\n",
    "\n",
    "# === 2. NORMALIZAR APENAS A COLUNA RMDM ===\n",
    "scaler = MinMaxScaler()\n",
    "df[\"RMDM_Norm\"] = scaler.fit_transform(df[[\"RMDM\"]])\n",
    "\n",
    "# === 3. SALVAR COM A NOVA COLUNA ADICIONADA ===\n",
    "df.to_csv(\"RMDM_litoral_norte_com_normalizado.csv\", index=False)\n",
    "\n",
    "print(\"✅ Coluna 'RMDM_Norm' adicionada com sucesso.\")\n",
    "print(\"📁 Arquivo salvo como 'RMDM_litoral_norte_com_normalizado.csv'.\")\n"
   ]
  },
  {
   "cell_type": "code",
   "execution_count": null,
   "id": "f6111aaf",
   "metadata": {},
   "outputs": [],
   "source": []
  }
 ],
 "metadata": {
  "kernelspec": {
   "display_name": "base",
   "language": "python",
   "name": "python3"
  },
  "language_info": {
   "codemirror_mode": {
    "name": "ipython",
    "version": 3
   },
   "file_extension": ".py",
   "mimetype": "text/x-python",
   "name": "python",
   "nbconvert_exporter": "python",
   "pygments_lexer": "ipython3",
   "version": "3.11.7"
  }
 },
 "nbformat": 4,
 "nbformat_minor": 5
}
