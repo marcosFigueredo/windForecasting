version https://git-lfs.github.com/spec/v1
oid sha256:ceeb71e24b2ccb0aad0e32455d15b778980c94a06eda44e3949cd6f7dcb450a5
size 1674
