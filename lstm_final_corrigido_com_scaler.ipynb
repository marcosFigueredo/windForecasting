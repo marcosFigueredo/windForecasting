version https://git-lfs.github.com/spec/v1
oid sha256:7f686b1f86445e8dc4b00098f9c6aeb817cd3ce0210b487c58596a049d199fb2
size 5255
