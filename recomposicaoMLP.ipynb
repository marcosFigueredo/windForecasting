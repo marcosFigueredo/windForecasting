version https://git-lfs.github.com/spec/v1
oid sha256:893f75a0113d1e7c569a4b4319e047c529ddcfd63888345d925a6d510e219b1e
size 542686
