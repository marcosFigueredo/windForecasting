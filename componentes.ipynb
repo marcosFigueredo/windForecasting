version https://git-lfs.github.com/spec/v1
oid sha256:09737cb7cd013d98e5eebeaa4ad7787928281f7e57cbf4b7ab377ad56e60cefd
size 78680
