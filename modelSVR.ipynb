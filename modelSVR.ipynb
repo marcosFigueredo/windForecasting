{
 "cells": [
  {
   "cell_type": "markdown",
   "id": "d74746e0",
   "metadata": {},
   "source": [
    "## modelo SVR"
   ]
  },
  {
   "cell_type": "code",
   "execution_count": 6,
   "id": "f9638a26",
   "metadata": {},
   "outputs": [
    {
     "name": "stdout",
     "output_type": "stream",
     "text": [
      "✅ Modelo salvo: svr_d1_t1.joblib\n",
      "✅ Modelo salvo: svr_d1_t5.joblib\n",
      "✅ Modelo salvo: svr_d1_t7.joblib\n",
      "✅ Modelo salvo: svr_d1_t30.joblib\n",
      "✅ Modelo salvo: svr_d2_t1.joblib\n",
      "✅ Modelo salvo: svr_d2_t5.joblib\n",
      "✅ Modelo salvo: svr_d2_t7.joblib\n",
      "✅ Modelo salvo: svr_d2_t30.joblib\n",
      "✅ Modelo salvo: svr_d3_t1.joblib\n",
      "✅ Modelo salvo: svr_d3_t5.joblib\n",
      "✅ Modelo salvo: svr_d3_t7.joblib\n",
      "✅ Modelo salvo: svr_d3_t30.joblib\n"
     ]
    }
   ],
   "source": [
    "\n",
    "import os\n",
    "import numpy as np\n",
    "import pandas as pd\n",
    "import joblib\n",
    "from sklearn.svm import SVR\n",
    "from sklearn.preprocessing import MinMaxScaler\n",
    "\n",
    "def criar_dataset_multi_step(series, look_back=10, passo=1):\n",
    "    X, y = [], []\n",
    "    for i in range(len(series) - look_back - passo + 1):\n",
    "        X.append(series[i:i + look_back])\n",
    "        y.append(series[i + look_back + passo - 1])\n",
    "    return np.array(X), np.array(y)\n",
    "\n",
    "def treinar_svr_para_componentes_d():\n",
    "    arquivos_componentes = {\n",
    "        'd1': 'D1_component.csv',\n",
    "        'd2': 'D2_component.csv',\n",
    "        'd3': 'D3_component.csv'\n",
    "    }\n",
    "\n",
    "    passos = [1, 5, 7, 30]\n",
    "    os.makedirs(\"modelosSVR\", exist_ok=True)\n",
    "    os.makedirs(\"scalersSVR\", exist_ok=True)\n",
    "\n",
    "    for comp, arquivo in arquivos_componentes.items():\n",
    "        df = pd.read_csv(arquivo)\n",
    "        serie = df[comp.upper()].values.reshape(-1, 1)\n",
    "        serie = pd.Series(serie.flatten()).interpolate().ffill().bfill().values.reshape(-1, 1)\n",
    "\n",
    "        for passo in passos:\n",
    "            look_back = 5 if passo <= 5 else 10\n",
    "\n",
    "            # Normalização\n",
    "            scaler = MinMaxScaler()\n",
    "            serie_scaled = scaler.fit_transform(serie)\n",
    "            joblib.dump(scaler, f\"scalersSVR/scaler_{comp}_t{passo}.joblib\")\n",
    "\n",
    "            # Criar dataset\n",
    "            X, y = criar_dataset_multi_step(serie_scaled, look_back, passo)\n",
    "            split = int(len(X) * 0.8)\n",
    "            X_train, y_train = X[:split], y[:split]\n",
    "\n",
    "            # Corrigir dimensão\n",
    "            X_train = X_train.reshape((X_train.shape[0], X_train.shape[1]))\n",
    "\n",
    "\n",
    "            # Treinar SVR\n",
    "            model = SVR(C=10, epsilon=0.01, kernel='rbf')\n",
    "            model.fit(X_train, y_train.ravel())\n",
    "\n",
    "            # Salvar modelo\n",
    "            joblib.dump(model, f\"modelosSVR/svr_{comp}_t{passo}.joblib\")\n",
    "            print(f\"✅ Modelo salvo: svr_{comp}_t{passo}.joblib\")\n",
    "\n",
    "# Executar o treinamento\n",
    "treinar_svr_para_componentes_d()\n"
   ]
  }
 ],
 "metadata": {
  "kernelspec": {
   "display_name": "base",
   "language": "python",
   "name": "python3"
  },
  "language_info": {
   "codemirror_mode": {
    "name": "ipython",
    "version": 3
   },
   "file_extension": ".py",
   "mimetype": "text/x-python",
   "name": "python",
   "nbconvert_exporter": "python",
   "pygments_lexer": "ipython3",
   "version": "3.11.7"
  }
 },
 "nbformat": 4,
 "nbformat_minor": 5
}
