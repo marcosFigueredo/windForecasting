version https://git-lfs.github.com/spec/v1
oid sha256:5dfc131c44483914c4e1b2ee382aa69983c18847b7a7e3d079d7a03dadf9fcbd
size 1320774
