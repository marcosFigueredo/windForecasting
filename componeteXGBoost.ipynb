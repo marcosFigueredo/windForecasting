version https://git-lfs.github.com/spec/v1
oid sha256:130e9b82cb4b7f8522d470dc8cbed477a3be67c9f309ba9aa84d62aeff7bcd3c
size 89908
