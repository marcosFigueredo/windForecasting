version https://git-lfs.github.com/spec/v1
oid sha256:8518997cff007c17cc242246fb7f051db52ba2abd694c49aac200985070d092e
size 69625
