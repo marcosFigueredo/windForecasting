version https://git-lfs.github.com/spec/v1
oid sha256:76e6381e5bcbb176353f043a2d52b55b2e3dd8efca0bba6190a9a121a2bb4972
size 21704
